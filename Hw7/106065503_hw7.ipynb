{
 "cells": [
  {
   "cell_type": "code",
   "execution_count": 1,
   "metadata": {},
   "outputs": [],
   "source": [
    "from collections import defaultdict, Counter\n",
    "import sys\n",
    "import re\n",
    "from nltk.corpus import stopwords\n",
    "eng_stopwords = set(stopwords.words('english')) \n",
    "max_distance = 5"
   ]
  },
  {
   "cell_type": "code",
   "execution_count": 2,
   "metadata": {},
   "outputs": [],
   "source": [
    "############### MAP ###############"
   ]
  },
  {
   "cell_type": "code",
   "execution_count": 3,
   "metadata": {},
   "outputs": [],
   "source": [
    "coll = defaultdict(lambda: 0)"
   ]
  },
  {
   "cell_type": "code",
   "execution_count": 4,
   "metadata": {},
   "outputs": [],
   "source": [
    "def tokens(str1): return re.findall('[a-z]+', str1.lower())"
   ]
  },
  {
   "cell_type": "code",
   "execution_count": 5,
   "metadata": {},
   "outputs": [],
   "source": [
    "def ngrams(sent, n):\n",
    "    return [ ' '.join(x) for x in zip(*[sent[i:] for i in range(n) if i <= len(sent) ] ) ]"
   ]
  },
  {
   "cell_type": "code",
   "execution_count": 6,
   "metadata": {},
   "outputs": [],
   "source": [
    "for ii in open('bnc.coll.small.txt','r').readlines():\n",
    "    token = ii.split('\\t')\n",
    "    partten = ' '.join(token[:2])\n",
    "    value = int(token[-2])\n",
    "    coll[partten] = value"
   ]
  },
  {
   "cell_type": "code",
   "execution_count": 7,
   "metadata": {},
   "outputs": [],
   "source": [
    "lines = []\n",
    "for sen in open('bnc.sents.txt').readlines():\n",
    "    sent = tokens(sen)\n",
    "    if 10<=len(sent)<=25:\n",
    "        tmp = []\n",
    "        for n in range(2,6):\n",
    "            for ngram in ngrams(sent,n):\n",
    "                token = ngram.split(' ')\n",
    "                head = token[0]\n",
    "                tail = token[-1]\n",
    "                tmp.append(head+' '+ tail)\n",
    "                tmp.append(tail+ ' '+ head)  \n",
    "        for i in tmp:\n",
    "            if coll[i]:\n",
    "                #print(i+' '+str(coll[i])+'\\t'+sen)\n",
    "                lines.append(i+' '+str(coll[i])+'\\t'+sen)"
   ]
  },
  {
   "cell_type": "code",
   "execution_count": 8,
   "metadata": {},
   "outputs": [],
   "source": [
    "################# Reduce #####################"
   ]
  },
  {
   "cell_type": "code",
   "execution_count": 9,
   "metadata": {},
   "outputs": [],
   "source": [
    "coll_sen = defaultdict(list)"
   ]
  },
  {
   "cell_type": "code",
   "execution_count": 10,
   "metadata": {},
   "outputs": [],
   "source": [
    "for line in lines:\n",
    "    token = line.split('\\t')\n",
    "    partten = token[0]\n",
    "    sentence = token[1]\n",
    "    coll_sen[partten].append(sentence)"
   ]
  },
  {
   "cell_type": "code",
   "execution_count": 11,
   "metadata": {},
   "outputs": [],
   "source": [
    "Higf = open('HiFreWords','r').read().split('\\t')"
   ]
  },
  {
   "cell_type": "code",
   "execution_count": 12,
   "metadata": {},
   "outputs": [],
   "source": [
    "Prons = open('prons.txt','r').read().split('\\n')"
   ]
  },
  {
   "cell_type": "code",
   "execution_count": null,
   "metadata": {},
   "outputs": [],
   "source": [
    "import operator"
   ]
  },
  {
   "cell_type": "code",
   "execution_count": null,
   "metadata": {},
   "outputs": [
    {
     "name": "stdout",
     "output_type": "stream",
     "text": [
      "new ones 1\tThis is a useful mechanism which allows the agreement to be easily updated by replacing schedules as old products are dropped and new ones .\n",
      "\n",
      "ones new -1\tThis is a useful mechanism which allows the agreement to be easily updated by replacing schedules as old products are dropped and new ones .\n",
      "\n",
      "litre per -1\tWith the low volume of piston-powered traffic would expect fuel to be expensive - and it is : 70-75 pence per litre .\n",
      "\n",
      "alphabetical order 1\tLIFESPAN will always present the list of Issues in ascending alphabetical order of Issue identifier .\n",
      "\n",
      "order alphabetical -1\tLIFESPAN will always present the list of Issues in ascending alphabetical order of Issue identifier .\n",
      "\n",
      "popular vote 1\tLegislature : a unicameral National Assembly of whom 23 members are elected by direct popular vote for five years and two are appointed by the President .\n",
      "\n",
      "vote popular -1\tLegislature : a unicameral National Assembly of whom 23 members are elected by direct popular vote for five years and two are appointed by the President .\n",
      "\n",
      "married couples 1\tOne can distinguish a typical trajectory - shown moving down from the upper left of the figure - as married couples reach the statutory retirement-age .\n",
      "\n",
      "couples married -1\tOne can distinguish a typical trajectory - shown moving down from the upper left of the figure - as married couples reach the statutory retirement-age .\n",
      "\n",
      "social scientists 1\tAnd equally important , it is made at a level of generality which has little connection with the work of social scientists .\n",
      "\n",
      "scientists social -1\tAnd equally important , it is made at a level of generality which has little connection with the work of social scientists .\n",
      "\n",
      "tells us 1\tThe fact that for 30 years social scientists have struggled to produce a theory of interaction tells us just how it is .\n",
      "\n",
      "us tells -1\tThe fact that for 30 years social scientists have struggled to produce a theory of interaction tells us just how it is .\n",
      "\n",
      "recognition system 1\tHowever , parameters for them for individual writers could be extracted from an initial training phase for a script recognition system .\n",
      "\n",
      "system recognition -1\tHowever , parameters for them for individual writers could be extracted from an initial training phase for a script recognition system .\n",
      "\n",
      "ronald reagan 1\tTHE American Service launched an internal investigation last night following an attack by an anti-nuclear protester on former President Ronald Reagan .\n",
      "\n",
      "reagan ronald -1\tTHE American Service launched an internal investigation last night following an attack by an anti-nuclear protester on former President Ronald Reagan .\n",
      "\n",
      "railway companies 1\tThis deep interest was amply reflected in the fact that no fewer than a dozen Argentine railway companies were British-owned .\n",
      "\n",
      "companies railway -1\tThis deep interest was amply reflected in the fact that no fewer than a dozen Argentine railway companies were British-owned .\n",
      "\n",
      "magnetic resonance 1\tMethods to rule out such concurrent illnesses and conditions must include cerebrospinal fluid examination and either brain imaging ( tomography or magnetic resonance ) or autopsy .\n",
      "\n",
      "resonance magnetic -1\tMethods to rule out such concurrent illnesses and conditions must include cerebrospinal fluid examination and either brain imaging ( tomography or magnetic resonance ) or autopsy .\n",
      "\n",
      "exactly knows -1\tIt 's from a guy who knows where the body is , and who knows exactly whose dabs are on the shiv .\n",
      "\n",
      "beyond look -1\tEven less than Authorities are they to be relied on for continuity of policy , or an ability to look beyond the day after tomorrow .\n",
      "\n",
      "daily mirror 1\tHe was at the Council House in Bristol , on the day of a particularly scathing attack on labour from Cecil in the Daily Mirror .\n",
      "\n",
      "mirror daily -1\tHe was at the Council House in Bristol , on the day of a particularly scathing attack on labour from Cecil in the Daily Mirror .\n",
      "\n",
      "equal numbers 1\tCases of equal numbers of additions to each area and all additions concentrated in a few areas are depicted schematically in Fig. 7.9 .\n",
      "\n",
      "numbers equal -1\tCases of equal numbers of additions to each area and all additions concentrated in a few areas are depicted schematically in Fig. 7.9 .\n",
      "\n",
      "modern many -1\tChris Ham and the author 's The Policy in the Modern Capitalist State explores many of the theoretical issues about the study of policy .\n",
      "\n",
      "outdoor action 1\tI wanted to thank you for the wonderful pair of walking boots - a prize from the February issue of Outdoor Action .\n",
      "\n",
      "action outdoor -1\tI wanted to thank you for the wonderful pair of walking boots - a prize from the February issue of Outdoor Action .\n",
      "\n",
      "much higher 1\tThe cost of getting the display team to Edinburgh for the International Festival of Movement on April 2-3 is proving to be much higher than .\n",
      "\n",
      "higher much -1\tThe cost of getting the display team to Edinburgh for the International Festival of Movement on April 2-3 is proving to be much higher than .\n",
      "\n",
      "grand met 1\tBut Grand Met could ask her to leave with just one month 's notice if they find a taker for the 20-year lease .\n",
      "\n",
      "met grand -1\tBut Grand Met could ask her to leave with just one month 's notice if they find a taker for the 20-year lease .\n",
      "\n",
      "address home -1\tThe simplest method of storage is to place a synonym in the first vacant record position following its home address .\n",
      "\n",
      "cancer cells 1\tIn certain cases its cells undergo changes in the cells mean that cervical cancer can be prevented before it starts .\n",
      "\n",
      "cells cancer -1\tIn certain cases its cells undergo changes in the cells mean that cervical cancer can be prevented before it starts .\n",
      "\n",
      "old son 1\tAt the end of dinner , a servant came in with the farmer 's one-year-old son in her arms .\n",
      "\n",
      "son old -1\tMr a forty four year old restaurant owner is still unable to sleep although his four year old son appears unaffected by what happened .\n",
      "\n",
      "legislative assembly 1\tIt was agreed that talks would resume in Arusha in mid-November to discuss outstanding issues , including arrangements for a new transitional legislative assembly .\n",
      "\n",
      "assembly legislative -1\tIt was agreed that talks would resume in Arusha in mid-November to discuss outstanding issues , including arrangements for a new transitional legislative assembly .\n",
      "\n",
      "critical theory 1\tThat is a common-sense way of looking at it , but in practice literary and critical theory has become an autonomous subject .\n",
      "\n",
      "theory critical -1\tThat is a common-sense way of looking at it , but in practice literary and critical theory has become an autonomous subject .\n",
      "\n",
      "fully equipped 1\tThen write a short tie-breaker saying why you would like to win a Magnet kitchen , fully equipped with appliances .\n",
      "\n",
      "equipped fully -1\tThen write a short tie-breaker saying why you would like to win a Magnet kitchen , fully equipped with appliances .\n",
      "\n",
      "tax relief 1\tIf - as was usually the case - that investor were a higher-rate taxpayer , the effective cost per share was just 60p after tax relief .\n",
      "\n",
      "relief tax -1\tIf - as was usually the case - that investor were a higher-rate taxpayer , the effective cost per share was just 60p after tax relief .\n",
      "\n",
      "improvement home -1\tWIRRAL Council may have to sell off more to head the crisis over home improvement , Liberal Democrat leader Coun Phil Gilchrist warned last night .\n",
      "\n",
      "multinational companies 1\tCoopers believes there will be an exodus from Britain of multinational companies unwilling to foot Labour 's tax bill .\n",
      "\n",
      "companies multinational -1\tCoopers believes there will be an exodus from Britain of multinational companies unwilling to foot Labour 's tax bill .\n",
      "\n",
      "bill tax -1\tSome women are financially dependent on other members of the family and so may be dependent on someone else to pay their Poll Tax bill .\n",
      "\n",
      "trying put 2\tHe might have had the last word , but he had n't really forgiven her for her temerity in trying to put him down .\n",
      "\n",
      "put trying -2\tHe might have had the last word , but he had n't really forgiven her for her temerity in trying to put him down .\n",
      "\n",
      "particularly helpful 1\tTo propose that cases should be treated on their merit is not particularly helpful if there is no guidance as to what a merit is .\n",
      "\n",
      "helpful particularly -1\tTo propose that cases should be treated on their merit is not particularly helpful if there is no guidance as to what a merit is .\n",
      "\n",
      "legal requirements 1\tHygiene practices being of the utmost importance , it is necessary to use a food storage system that adheres to all legal requirements .\n",
      "\n",
      "requirements legal -1\tHygiene practices being of the utmost importance , it is necessary to use a food storage system that adheres to all legal requirements .\n",
      "\n",
      "new oed 1\tUpon completion of any of the above procedures the form should be returned to the New OED Computer Group .\n",
      "\n",
      "oed new -1\tUpon completion of any of the above procedures the form should be returned to the New OED Computer Group .\n",
      "\n",
      "serious less -1\tThe probation service and voluntary agencies were to be funded to provide an alternative form of punishment for the less serious offender .\n",
      "\n",
      "less serious 1\tThe probation service and voluntary agencies were to be funded to provide an alternative form of punishment for the less serious offender .\n",
      "\n",
      "manufacturing industry 1\tIt was noted that the traditional idea of a real job tended to stress manual skilled work , done by men in a manufacturing industry .\n",
      "\n",
      "industry manufacturing -1\tIt was noted that the traditional idea of a real job tended to stress manual skilled work , done by men in a manufacturing industry .\n",
      "\n",
      "table ii 1\tCrohn 's disease - three of 10 patients regarded as having definite Crohn 's disease on histopathological review had had subtotal colectomy before restorative proctocolectomy ( Table II ) .\n",
      "\n",
      "ii table -1\tCrohn 's disease - three of 10 patients regarded as having definite Crohn 's disease on histopathological review had had subtotal colectomy before restorative proctocolectomy ( Table II ) .\n",
      "\n",
      "jane pargeter 1\tIn the flesh Jane Pargeter was familiar but different to how Dexter had imagined her from the image on television .\n",
      "\n",
      "pargeter jane -1\tIn the flesh Jane Pargeter was familiar but different to how Dexter had imagined her from the image on television .\n",
      "\n",
      "agrarian reform 1\tPetras and Laporte suggest that agrarian reform brings about revolutionary attitudes through the frustration by those who have failed to benefit ( Petras and LaPorte 1971 ) .\n",
      "\n",
      "reform agrarian -1\tPetras and Laporte suggest that agrarian reform brings about revolutionary attitudes through the frustration by those who have failed to benefit ( Petras and LaPorte 1971 ) .\n",
      "\n",
      "elements main -1\tA key issue is the effect on the Dead Sea , focused around two main elements - the water level and the salinity .\n",
      "\n",
      "order achieve 2\tThe first in the process of design can therefore be performed by describing the association of named spaces in order to achieve a desired function .\n",
      "\n",
      "achieve order -2\tThe first in the process of design can therefore be performed by describing the association of named spaces in order to achieve a desired function .\n",
      "\n",
      "least twice 1\tThe Findhorn is our local river and members are on it ( or in it ) at least twice a month throughout the year .\n",
      "\n",
      "twice least -1\tThe tank gallonage should pass through the undergravels at least five times an hour , and through the trickles at least twice .\n",
      "\n",
      "second stage 1\tSome Tory MPs are also hoping that Chancellor Kenneth Clarke will decide to limit the VAT to just 8pc and the second stage to 17.5pc .\n",
      "\n",
      "stage second -1\tSome Tory MPs are also hoping that Chancellor Kenneth Clarke will decide to limit the VAT to just 8pc and the second stage to 17.5pc .\n",
      "\n",
      "slightly less 1\tGiven the failure of these direct tests we need to turn to some slightly less obvious empirical implications of the differences the theories above .\n",
      "\n",
      "less slightly -1\tHence , the investor might conclude that Commercial Union was slightly more volatile than comparable firms and earned slightly less than the for the sector .\n",
      "\n",
      "cost effectiveness 1\tCommunications can assist if special covers or more extensive printed documents with illustrations and photographs are ; the cost effectiveness of each opportunity must be considered .\n",
      "\n",
      "effectiveness cost -1\tCommunications can assist if special covers or more extensive printed documents with illustrations and photographs are ; the cost effectiveness of each opportunity must be considered .\n",
      "\n",
      "opportunity cost 1\tCommunications can assist if special covers or more extensive printed documents with illustrations and photographs are ; the cost effectiveness of each opportunity must be considered .\n",
      "\n",
      "making ways -2\tThese have proved a boon to many occasional users of complex applications , and by making different applications similar ways can considerably reduce time .\n",
      "\n",
      "ways making 2\tThese have proved a boon to many occasional users of complex applications , and by making different applications similar ways can considerably reduce time .\n",
      "\n",
      "surprised see 2\tI had been walking for only a few minutes I was surprised to see Miss Stapleton sitting a rock ahead of me .\n",
      "\n"
     ]
    }
   ],
   "source": [
    "for key,sentence in coll_sen.items():\n",
    "    #print(key)\n",
    "    head = key.split(' ')[0]\n",
    "    tmp = []\n",
    "    for sen in sentence:\n",
    "        score = 0\n",
    "        tok = tokens(sen)\n",
    "        score +=tok.index(head)\n",
    "        for word in tok:\n",
    "            if word in Higf:\n",
    "                score += 1\n",
    "            if word not in Prons:\n",
    "                score +=1\n",
    "        tmp.append((sen,score))\n",
    "    result = dict(tmp)\n",
    "    print(key+'\\t'+max(result.items(), key=operator.itemgetter(1))[0])"
   ]
  },
  {
   "cell_type": "code",
   "execution_count": null,
   "metadata": {},
   "outputs": [],
   "source": []
  },
  {
   "cell_type": "code",
   "execution_count": null,
   "metadata": {},
   "outputs": [],
   "source": []
  }
 ],
 "metadata": {
  "kernelspec": {
   "display_name": "Python 3",
   "language": "python",
   "name": "python3"
  },
  "language_info": {
   "codemirror_mode": {
    "name": "ipython",
    "version": 3
   },
   "file_extension": ".py",
   "mimetype": "text/x-python",
   "name": "python",
   "nbconvert_exporter": "python",
   "pygments_lexer": "ipython3",
   "version": "3.6.1"
  }
 },
 "nbformat": 4,
 "nbformat_minor": 2
}
